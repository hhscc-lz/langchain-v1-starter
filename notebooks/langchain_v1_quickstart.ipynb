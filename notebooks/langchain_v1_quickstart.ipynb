{
  "cells": [
    {
      "cell_type": "markdown",
      "metadata": {},
      "source": [
        "# LangChain v1 快速入门示例\n",
        "\n",
        "这个 Notebook 演示了如何使用 LangChain v1 创建一个简单的 AI Agent。\n",
        "\n",
        "## 功能特性\n",
        "\n",
        "- ✅ 系统提示词定义\n",
        "- ✅ 工具（Tool）的创建和使用\n",
        "- ✅ 运行时上下文（Runtime Context）\n",
        "- ✅ 结构化输出（Structured Output）\n",
        "- ✅ 对话记忆（Conversational Memory）\n",
        "\n",
        "## 环境要求\n",
        "\n",
        "本示例使用阿里云 DashScope 的千问（Qwen）模型，需要设置环境变量：\n",
        "```bash\n",
        "export DASHSCOPE_API_KEY=\"your-dashscope-api-key\"\n",
        "```\n"
      ]
    },
    {
      "cell_type": "markdown",
      "metadata": {},
      "source": [
        "## 1. 导入依赖\n"
      ]
    },
    {
      "cell_type": "code",
      "execution_count": null,
      "metadata": {},
      "outputs": [],
      "source": [
        "import os\n",
        "from dataclasses import dataclass\n",
        "\n",
        "from langchain.agents import create_agent\n",
        "from langchain.tools import ToolRuntime, tool\n",
        "from langchain_qwq import ChatQwen\n",
        "from langgraph.checkpoint.memory import InMemorySaver\n"
      ]
    },
    {
      "cell_type": "markdown",
      "metadata": {},
      "source": [
        "## 2. 定义系统提示词\n",
        "\n",
        "系统提示词用于定义 Agent 的角色和行为。\n"
      ]
    },
    {
      "cell_type": "code",
      "execution_count": null,
      "metadata": {},
      "outputs": [],
      "source": [
        "SYSTEM_PROMPT = \"\"\"你是一位专业的天气预报员，喜欢使用双关语。\n",
        "\n",
        "你可以使用两个工具：\n",
        "\n",
        "- get_weather_for_location: 用于获取特定位置的天气信息\n",
        "- get_user_location: 用于获取用户的位置\n",
        "\n",
        "如果用户询问天气，请确保你知道位置。如果从问题中可以判断用户指的是他们所在的位置，\n",
        "请使用 get_user_location 工具来获取他们的位置。\"\"\"\n",
        "\n",
        "print(\"✅ 系统提示词已定义\")\n"
      ]
    },
    {
      "cell_type": "markdown",
      "metadata": {},
      "source": [
        "## 3. 定义运行时上下文\n",
        "\n",
        "上下文允许工具访问运行时信息，例如用户 ID、会话信息等。\n"
      ]
    },
    {
      "cell_type": "code",
      "execution_count": null,
      "metadata": {},
      "outputs": [],
      "source": [
        "@dataclass\n",
        "class Context:\n",
        "    \"\"\"自定义运行时上下文模式.\"\"\"\n",
        "\n",
        "    user_id: str\n",
        "\n",
        "\n",
        "print(\"✅ 上下文模式已定义\")\n"
      ]
    },
    {
      "cell_type": "markdown",
      "metadata": {},
      "source": [
        "## 4. 创建工具（Tools）\n",
        "\n",
        "工具是 Agent 可以调用的函数。注意 `get_user_location` 如何使用运行时上下文。\n"
      ]
    },
    {
      "cell_type": "code",
      "execution_count": null,
      "metadata": {},
      "outputs": [],
      "source": [
        "@tool\n",
        "def get_weather_for_location(city: str) -> str:\n",
        "    \"\"\"获取指定城市的天气信息.\"\"\"\n",
        "    return f\"{city} 总是阳光明媚！\"\n",
        "\n",
        "\n",
        "@tool\n",
        "def get_user_location(runtime: ToolRuntime[Context]) -> str:\n",
        "    \"\"\"根据用户 ID 获取用户位置信息.\"\"\"\n",
        "    user_id = runtime.context.user_id\n",
        "    return \"佛罗里达\" if user_id == \"1\" else \"旧金山\"\n",
        "\n",
        "\n",
        "print(\"✅ 工具已创建\")\n",
        "print(f\"  - {get_weather_for_location.name}: {get_weather_for_location.description}\")\n",
        "print(f\"  - {get_user_location.name}: {get_user_location.description}\")\n"
      ]
    },
    {
      "cell_type": "markdown",
      "metadata": {},
      "source": [
        "## 5. 定义响应格式\n",
        "\n",
        "使用结构化输出确保 Agent 的响应符合特定模式。\n"
      ]
    },
    {
      "cell_type": "code",
      "execution_count": null,
      "metadata": {},
      "outputs": [],
      "source": [
        "@dataclass\n",
        "class ResponseFormat:\n",
        "    \"\"\"Agent 的响应模式.\"\"\"\n",
        "\n",
        "    # 带有双关语的回复（必填）\n",
        "    punny_response: str\n",
        "    # 如果有的话，包含有趣的天气信息（可选）\n",
        "    weather_conditions: str | None = None\n",
        "\n",
        "\n",
        "print(\"✅ 响应格式已定义\")\n"
      ]
    },
    {
      "cell_type": "markdown",
      "metadata": {},
      "source": [
        "## 6. 配置语言模型\n",
        "\n",
        "初始化阿里云 DashScope 的千问（Qwen）3 Next 80B 模型并设置参数。\n"
      ]
    },
    {
      "cell_type": "code",
      "execution_count": null,
      "metadata": {},
      "outputs": [],
      "source": [
        "model = ChatQwen(\n",
        "    model=\"qwen3-next-80b-a3b-instruct\",\n",
        "    api_key=os.getenv(\"DASHSCOPE_API_KEY\"),\n",
        "    base_url=\"https://dashscope.aliyuncs.com/compatible-mode/v1\",\n",
        "    temperature=0.5,\n",
        "    max_tokens=1000,\n",
        ")\n",
        "\n",
        "print(\"✅ 模型已配置\")\n",
        "print(f\"  模型: Qwen 3 Next 80B\")\n",
        "print(f\"  Base URL: https://dashscope.aliyuncs.com/compatible-mode/v1\")\n",
        "print(f\"  Temperature: 0.5\")\n",
        "print(f\"  Max Tokens: 1000\")\n"
      ]
    },
    {
      "cell_type": "markdown",
      "metadata": {},
      "source": [
        "## 7. 设置对话记忆\n",
        "\n",
        "使用内存检查点来保存对话状态。\n"
      ]
    },
    {
      "cell_type": "code",
      "execution_count": null,
      "metadata": {},
      "outputs": [],
      "source": [
        "checkpointer = InMemorySaver()\n",
        "\n",
        "print(\"✅ 检查点已配置（使用内存存储）\")\n",
        "print(\"  ⚠️  生产环境建议使用持久化存储\")\n"
      ]
    },
    {
      "cell_type": "markdown",
      "metadata": {},
      "source": [
        "## 8. 创建 Agent\n",
        "\n",
        "将所有组件组合在一起创建完整的 Agent。\n"
      ]
    },
    {
      "cell_type": "code",
      "execution_count": null,
      "metadata": {},
      "outputs": [],
      "source": [
        "agent = create_agent(\n",
        "    model=model,\n",
        "    system_prompt=SYSTEM_PROMPT,\n",
        "    tools=[get_user_location, get_weather_for_location],\n",
        "    context_schema=Context,\n",
        "    response_format=ResponseFormat,\n",
        "    checkpointer=checkpointer,\n",
        ")\n",
        "\n",
        "print(\"✅ Agent 创建成功！\")\n"
      ]
    },
    {
      "cell_type": "markdown",
      "metadata": {},
      "source": [
        "## 9. 运行第一轮对话\n",
        "\n",
        "询问天气信息。Agent 会：\n",
        "1. 识别需要获取用户位置\n",
        "2. 调用 `get_user_location` 工具\n",
        "3. 调用 `get_weather_for_location` 工具\n",
        "4. 返回结构化响应\n"
      ]
    },
    {
      "cell_type": "code",
      "execution_count": null,
      "metadata": {},
      "outputs": [],
      "source": [
        "# thread_id 是对话的唯一标识符\n",
        "config = {\"configurable\": {\"thread_id\": \"1\"}}\n",
        "\n",
        "print(\"🤖 用户: 外面天气怎么样？\")\n",
        "print()\n",
        "\n",
        "response = agent.invoke(\n",
        "    {\"messages\": [{\"role\": \"user\", \"content\": \"外面天气怎么样？\"}]},\n",
        "    config=config,\n",
        "    context=Context(user_id=\"1\"),\n",
        ")\n",
        "\n",
        "print(\"💬 Agent 响应:\")\n",
        "print(f\"  回复: {response['structured_response'].punny_response}\")\n",
        "print(f\"  天气信息: {response['structured_response'].weather_conditions}\")\n"
      ]
    },
    {
      "cell_type": "markdown",
      "metadata": {},
      "source": [
        "## 10. 继续对话\n",
        "\n",
        "使用相同的 `thread_id` 继续对话，Agent 会记住之前的上下文。\n"
      ]
    },
    {
      "cell_type": "code",
      "execution_count": null,
      "metadata": {},
      "outputs": [],
      "source": [
        "print(\"🤖 用户: 谢谢你！\")\n",
        "print()\n",
        "\n",
        "response = agent.invoke(\n",
        "    {\"messages\": [{\"role\": \"user\", \"content\": \"谢谢你！\"}]},\n",
        "    config=config,\n",
        "    context=Context(user_id=\"1\"),\n",
        ")\n",
        "\n",
        "print(\"💬 Agent 响应:\")\n",
        "print(f\"  回复: {response['structured_response'].punny_response}\")\n",
        "print(f\"  天气信息: {response['structured_response'].weather_conditions}\")\n"
      ]
    },
    {
      "cell_type": "markdown",
      "metadata": {},
      "source": [
        "## 11. 测试不同用户\n",
        "\n",
        "尝试使用不同的用户 ID，看看位置如何变化。\n"
      ]
    },
    {
      "cell_type": "code",
      "execution_count": null,
      "metadata": {},
      "outputs": [],
      "source": [
        "# 使用不同的 thread_id 开始新对话\n",
        "config_user2 = {\"configurable\": {\"thread_id\": \"2\"}}\n",
        "\n",
        "print(\"🤖 用户 2: 天气如何？\")\n",
        "print()\n",
        "\n",
        "response = agent.invoke(\n",
        "    {\"messages\": [{\"role\": \"user\", \"content\": \"天气如何？\"}]},\n",
        "    config=config_user2,\n",
        "    context=Context(user_id=\"2\"),  # 不同的用户 ID\n",
        ")\n",
        "\n",
        "print(\"💬 Agent 响应:\")\n",
        "print(f\"  回复: {response['structured_response'].punny_response}\")\n",
        "print(f\"  天气信息: {response['structured_response'].weather_conditions}\")\n",
        "print()\n",
        "print(\"📍 注意: 用户 2 的位置是旧金山，而不是佛罗里达\")\n"
      ]
    },
    {
      "cell_type": "markdown",
      "metadata": {},
      "source": [
        "## 总结\n",
        "\n",
        "恭喜！你已经成功创建了一个功能完整的 AI Agent，它具备：\n",
        "\n",
        "- ✅ **理解上下文**并记住对话\n",
        "- ✅ **智能使用多个工具**\n",
        "- ✅ **提供结构化响应**（一致的格式）\n",
        "- ✅ **处理用户特定信息**（通过上下文）\n",
        "- ✅ **维护对话状态**（跨交互）\n",
        "\n",
        "## 下一步\n",
        "\n",
        "你可以基于这个示例：\n",
        "1. 创建自己的工具函数\n",
        "2. 自定义系统提示词\n",
        "3. 定义自己的响应格式\n",
        "4. 集成真实的 API 和数据源\n",
        "5. 为 12345 政务服务热线定制 Agent\n"
      ]
    }
  ],
  "metadata": {
    "language_info": {
      "name": "python"
    }
  },
  "nbformat": 4,
  "nbformat_minor": 2
}
